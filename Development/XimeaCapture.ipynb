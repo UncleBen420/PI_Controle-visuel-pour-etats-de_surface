{
 "cells": [
  {
   "cell_type": "code",
   "execution_count": 171,
   "metadata": {},
   "outputs": [],
   "source": [
    "from ximea import xiapi\n",
    "import matplotlib.pyplot as plt\n",
    "import cv2     \n",
    "import time"
   ]
  },
  {
   "cell_type": "code",
   "execution_count": 173,
   "metadata": {},
   "outputs": [],
   "source": [
    "counter = 0\n",
    "RA = \"1.198\"\n",
    "# MIN exposur is 30 microsecond\n",
    "ExposTime = 600\n",
    "#Folder = \"OK\"\n",
    "Folder = \"shared\""
   ]
  },
  {
   "cell_type": "code",
   "execution_count": 174,
   "metadata": {
    "scrolled": true
   },
   "outputs": [
    {
     "name": "stdout",
     "output_type": "stream",
     "text": [
      "Opening first camera...\n"
     ]
    },
    {
     "name": "stderr",
     "output_type": "stream",
     "text": [
      "xiAPI: ---- xiOpenDevice API:V4.25.04.00 started ----\n",
      "xiAPI: XIMEA Camera API V4.25.04.00\n",
      "xiAPI: Adding camera context: dwID=41856842  ptr=46147000 processID=000021AE\n",
      "xiAPI: Create handles 1 Process 000021AE\n",
      "xiAPI: Enable sensor\n",
      "xiAPI: ENABLE SENSOR\n",
      "xiAPI: xiReadFileFFS Time needed to read file SensFPNCorrections :153ms\n",
      "xiAPI: xiReadFileFFS Time needed to read file SensFPNCorrections :151ms\n",
      "xiAPI: DISABLE SENSOR\n",
      "xiAPI: ENABLE SENSOR\n",
      "xiAPI: Set gain 1.060000 ADC 01E3 DIGIT 0087\n",
      "xiAPI: Set gain 1.060000 ADC 01E3 DIGIT 0087\n",
      "xiAPI: Time needed to read BPL:12ms\n",
      "xiAPI: Successfully parsed BPL file, 179 total corrected pixels\n",
      "xiAPI: Set gain 1.060000 ADC 01E3 DIGIT 0087\n",
      "xiAPI: AutoSetBandwidth measurement\n",
      "xiAPI: CalculateResources : Context 46147000 ID 41856842 m_maxBytes=1024 m_maxBufferSize=1048576\n",
      "xiAPI: PoolAllocUSB30: zerocopy not available\n",
      "xiAPI: Failed to change thread scheduler, check user limit for realtime priority.\n",
      "xiAPI: AutoSetBandwidth measured 3140Mbps. Safe margin 10% will be used.\n",
      "xiAPI: Current bandwidth limit auto-set to 2826 Mbps (min:408Mbps,max:3140Mbps)\n",
      "xiAPI: Set gain 1.060000 ADC 01E3 DIGIT 0087\n",
      "xiAPI: Set gain 1.060000 ADC 01E3 DIGIT 0087\n",
      "xiAPI: ---- Device opened. Model:MQ013RG-ON SN:41856842 FwF1: API:V4.25.04.00 ----\n",
      "xiAPI: Set gain 1.060000 ADC 01E3 DIGIT 0087\n",
      "xiAPI: CalculateResources : Context 46147000 ID 41856842 m_maxBytes=1024 m_maxBufferSize=1048576\n",
      "xiAPI: PoolAllocUSB30: zerocopy not available\n"
     ]
    },
    {
     "name": "stdout",
     "output_type": "stream",
     "text": [
      "Starting data acquisition...\n"
     ]
    },
    {
     "name": "stderr",
     "output_type": "stream",
     "text": [
      "xiAPI: StartVideoStream\n",
      "xiAPI: Set gain 1.060000 ADC 01E3 DIGIT 0087\n",
      "xiAPI: Failed to change thread scheduler, check user limit for realtime priority.\n",
      "xiAPI: WorkerThread is up\n",
      "xiAPI: WorkerThread is down: ret 0\n"
     ]
    },
    {
     "name": "stdout",
     "output_type": "stream",
     "text": [
      "Stopping acquisition...\n",
      "Drawing image...\n"
     ]
    },
    {
     "name": "stderr",
     "output_type": "stream",
     "text": [
      "xiAPI: xiCloseDevice\n",
      "xiAPI: DisableSensor\n",
      "xiAPI: DisableDevice\n",
      "xiAPI: DISABLE SENSOR\n",
      "xiAPI: deleting camera context: dwID=41856842, ptr=46147000 processID=000021AE\n"
     ]
    },
    {
     "name": "stdout",
     "output_type": "stream",
     "text": [
      "Done.\n",
      "Opening first camera...\n"
     ]
    },
    {
     "name": "stderr",
     "output_type": "stream",
     "text": [
      "xiAPI: ---- xiOpenDevice API:V4.25.04.00 started ----\n",
      "xiAPI: XIMEA Camera API V4.25.04.00\n",
      "xiAPI: Adding camera context: dwID=41856842  ptr=46147000 processID=000021AE\n",
      "xiAPI: Create handles 1 Process 000021AE\n",
      "xiAPI: Enable sensor\n",
      "xiAPI: ENABLE SENSOR\n",
      "xiAPI: xiReadFileFFS Time needed to read file SensFPNCorrections :152ms\n",
      "xiAPI: xiReadFileFFS Time needed to read file SensFPNCorrections :151ms\n",
      "xiAPI: DISABLE SENSOR\n",
      "xiAPI: ENABLE SENSOR\n",
      "xiAPI: Set gain 1.060000 ADC 01E3 DIGIT 0087\n",
      "xiAPI: Set gain 1.060000 ADC 01E3 DIGIT 0087\n",
      "xiAPI: Time needed to read BPL:12ms\n",
      "xiAPI: Successfully parsed BPL file, 179 total corrected pixels\n",
      "xiAPI: Set gain 1.060000 ADC 01E3 DIGIT 0087\n",
      "xiAPI: AutoSetBandwidth measurement\n",
      "xiAPI: CalculateResources : Context 46147000 ID 41856842 m_maxBytes=1024 m_maxBufferSize=1048576\n",
      "xiAPI: PoolAllocUSB30: zerocopy not available\n",
      "xiAPI: Failed to change thread scheduler, check user limit for realtime priority.\n",
      "xiAPI: AutoSetBandwidth measured 3140Mbps. Safe margin 10% will be used.\n",
      "xiAPI: Current bandwidth limit auto-set to 2826 Mbps (min:408Mbps,max:3140Mbps)\n",
      "xiAPI: Set gain 1.060000 ADC 01E3 DIGIT 0087\n",
      "xiAPI: Set gain 1.060000 ADC 01E3 DIGIT 0087\n",
      "xiAPI: ---- Device opened. Model:MQ013RG-ON SN:41856842 FwF1: API:V4.25.04.00 ----\n",
      "xiAPI: Set gain 1.060000 ADC 01E3 DIGIT 0087\n",
      "xiAPI: CalculateResources : Context 46147000 ID 41856842 m_maxBytes=1024 m_maxBufferSize=1048576\n",
      "xiAPI: PoolAllocUSB30: zerocopy not available\n"
     ]
    },
    {
     "name": "stdout",
     "output_type": "stream",
     "text": [
      "Starting data acquisition...\n"
     ]
    },
    {
     "name": "stderr",
     "output_type": "stream",
     "text": [
      "xiAPI: StartVideoStream\n",
      "xiAPI: Set gain 1.060000 ADC 01E3 DIGIT 0087\n",
      "xiAPI: Failed to change thread scheduler, check user limit for realtime priority.\n",
      "xiAPI: WorkerThread is up\n",
      "xiAPI: WorkerThread is down: ret 0\n"
     ]
    },
    {
     "name": "stdout",
     "output_type": "stream",
     "text": [
      "Stopping acquisition...\n",
      "Drawing image...\n"
     ]
    },
    {
     "name": "stderr",
     "output_type": "stream",
     "text": [
      "xiAPI: xiCloseDevice\n",
      "xiAPI: DisableSensor\n",
      "xiAPI: DisableDevice\n",
      "xiAPI: DISABLE SENSOR\n",
      "xiAPI: deleting camera context: dwID=41856842, ptr=46147000 processID=000021AE\n"
     ]
    },
    {
     "name": "stdout",
     "output_type": "stream",
     "text": [
      "Done.\n",
      "Opening first camera...\n"
     ]
    },
    {
     "name": "stderr",
     "output_type": "stream",
     "text": [
      "xiAPI: ---- xiOpenDevice API:V4.25.04.00 started ----\n",
      "xiAPI: XIMEA Camera API V4.25.04.00\n",
      "xiAPI: Adding camera context: dwID=41856842  ptr=46147000 processID=000021AE\n",
      "xiAPI: Create handles 1 Process 000021AE\n",
      "xiAPI: Enable sensor\n",
      "xiAPI: ENABLE SENSOR\n",
      "xiAPI: xiReadFileFFS Time needed to read file SensFPNCorrections :152ms\n",
      "xiAPI: xiReadFileFFS Time needed to read file SensFPNCorrections :151ms\n",
      "xiAPI: DISABLE SENSOR\n",
      "xiAPI: ENABLE SENSOR\n",
      "xiAPI: Set gain 1.060000 ADC 01E3 DIGIT 0087\n",
      "xiAPI: Set gain 1.060000 ADC 01E3 DIGIT 0087\n",
      "xiAPI: Time needed to read BPL:12ms\n",
      "xiAPI: Successfully parsed BPL file, 179 total corrected pixels\n",
      "xiAPI: Set gain 1.060000 ADC 01E3 DIGIT 0087\n",
      "xiAPI: AutoSetBandwidth measurement\n",
      "xiAPI: CalculateResources : Context 46147000 ID 41856842 m_maxBytes=1024 m_maxBufferSize=1048576\n",
      "xiAPI: PoolAllocUSB30: zerocopy not available\n",
      "xiAPI: Failed to change thread scheduler, check user limit for realtime priority.\n",
      "xiAPI: AutoSetBandwidth measured 3143Mbps. Safe margin 10% will be used.\n",
      "xiAPI: Current bandwidth limit auto-set to 2828 Mbps (min:408Mbps,max:3143Mbps)\n",
      "xiAPI: Set gain 1.060000 ADC 01E3 DIGIT 0087\n",
      "xiAPI: Set gain 1.060000 ADC 01E3 DIGIT 0087\n",
      "xiAPI: ---- Device opened. Model:MQ013RG-ON SN:41856842 FwF1: API:V4.25.04.00 ----\n",
      "xiAPI: Set gain 1.060000 ADC 01E3 DIGIT 0087\n",
      "xiAPI: CalculateResources : Context 46147000 ID 41856842 m_maxBytes=1024 m_maxBufferSize=1048576\n",
      "xiAPI: PoolAllocUSB30: zerocopy not available\n"
     ]
    },
    {
     "name": "stdout",
     "output_type": "stream",
     "text": [
      "Starting data acquisition...\n"
     ]
    },
    {
     "name": "stderr",
     "output_type": "stream",
     "text": [
      "xiAPI: StartVideoStream\n",
      "xiAPI: Set gain 1.060000 ADC 01E3 DIGIT 0087\n",
      "xiAPI: Failed to change thread scheduler, check user limit for realtime priority.\n",
      "xiAPI: WorkerThread is up\n",
      "xiAPI: WorkerThread is down: ret 0\n"
     ]
    },
    {
     "name": "stdout",
     "output_type": "stream",
     "text": [
      "Stopping acquisition...\n",
      "Drawing image...\n"
     ]
    },
    {
     "name": "stderr",
     "output_type": "stream",
     "text": [
      "xiAPI: xiCloseDevice\n",
      "xiAPI: DisableSensor\n",
      "xiAPI: DisableDevice\n",
      "xiAPI: DISABLE SENSOR\n",
      "xiAPI: deleting camera context: dwID=41856842, ptr=46147000 processID=000021AE\n"
     ]
    },
    {
     "name": "stdout",
     "output_type": "stream",
     "text": [
      "Done.\n",
      "Opening first camera...\n"
     ]
    },
    {
     "name": "stderr",
     "output_type": "stream",
     "text": [
      "xiAPI: ---- xiOpenDevice API:V4.25.04.00 started ----\n",
      "xiAPI: XIMEA Camera API V4.25.04.00\n",
      "xiAPI: Adding camera context: dwID=41856842  ptr=46147000 processID=000021AE\n",
      "xiAPI: Create handles 1 Process 000021AE\n",
      "xiAPI: Enable sensor\n",
      "xiAPI: ENABLE SENSOR\n",
      "xiAPI: xiReadFileFFS Time needed to read file SensFPNCorrections :158ms\n",
      "xiAPI: xiReadFileFFS Time needed to read file SensFPNCorrections :163ms\n",
      "xiAPI: DISABLE SENSOR\n",
      "xiAPI: ENABLE SENSOR\n",
      "xiAPI: Set gain 1.060000 ADC 01E3 DIGIT 0087\n",
      "xiAPI: Set gain 1.060000 ADC 01E3 DIGIT 0087\n",
      "xiAPI: Time needed to read BPL:12ms\n",
      "xiAPI: Successfully parsed BPL file, 179 total corrected pixels\n",
      "xiAPI: Set gain 1.060000 ADC 01E3 DIGIT 0087\n",
      "xiAPI: AutoSetBandwidth measurement\n",
      "xiAPI: CalculateResources : Context 46147000 ID 41856842 m_maxBytes=1024 m_maxBufferSize=1048576\n",
      "xiAPI: PoolAllocUSB30: zerocopy not available\n",
      "xiAPI: Failed to change thread scheduler, check user limit for realtime priority.\n",
      "xiAPI: AutoSetBandwidth measured 3142Mbps. Safe margin 10% will be used.\n",
      "xiAPI: Current bandwidth limit auto-set to 2827 Mbps (min:408Mbps,max:3142Mbps)\n",
      "xiAPI: Set gain 1.060000 ADC 01E3 DIGIT 0087\n",
      "xiAPI: Set gain 1.060000 ADC 01E3 DIGIT 0087\n",
      "xiAPI: ---- Device opened. Model:MQ013RG-ON SN:41856842 FwF1: API:V4.25.04.00 ----\n",
      "xiAPI: Set gain 1.060000 ADC 01E3 DIGIT 0087\n",
      "xiAPI: CalculateResources : Context 46147000 ID 41856842 m_maxBytes=1024 m_maxBufferSize=1048576\n",
      "xiAPI: PoolAllocUSB30: zerocopy not available\n"
     ]
    },
    {
     "name": "stdout",
     "output_type": "stream",
     "text": [
      "Starting data acquisition...\n"
     ]
    },
    {
     "name": "stderr",
     "output_type": "stream",
     "text": [
      "xiAPI: StartVideoStream\n",
      "xiAPI: Set gain 1.060000 ADC 01E3 DIGIT 0087\n",
      "xiAPI: Failed to change thread scheduler, check user limit for realtime priority.\n",
      "xiAPI: WorkerThread is up\n",
      "xiAPI: WorkerThread is down: ret 0\n"
     ]
    },
    {
     "name": "stdout",
     "output_type": "stream",
     "text": [
      "Stopping acquisition...\n",
      "Drawing image...\n"
     ]
    },
    {
     "name": "stderr",
     "output_type": "stream",
     "text": [
      "xiAPI: xiCloseDevice\n",
      "xiAPI: DisableSensor\n",
      "xiAPI: DisableDevice\n",
      "xiAPI: DISABLE SENSOR\n",
      "xiAPI: deleting camera context: dwID=41856842, ptr=46147000 processID=000021AE\n"
     ]
    },
    {
     "name": "stdout",
     "output_type": "stream",
     "text": [
      "Done.\n",
      "Opening first camera...\n"
     ]
    },
    {
     "name": "stderr",
     "output_type": "stream",
     "text": [
      "xiAPI: ---- xiOpenDevice API:V4.25.04.00 started ----\n",
      "xiAPI: XIMEA Camera API V4.25.04.00\n",
      "xiAPI: Adding camera context: dwID=41856842  ptr=46147000 processID=000021AE\n",
      "xiAPI: Create handles 1 Process 000021AE\n",
      "xiAPI: Enable sensor\n",
      "xiAPI: ENABLE SENSOR\n",
      "xiAPI: xiReadFileFFS Time needed to read file SensFPNCorrections :152ms\n",
      "xiAPI: xiReadFileFFS Time needed to read file SensFPNCorrections :151ms\n",
      "xiAPI: DISABLE SENSOR\n",
      "xiAPI: ENABLE SENSOR\n",
      "xiAPI: Set gain 1.060000 ADC 01E3 DIGIT 0087\n",
      "xiAPI: Set gain 1.060000 ADC 01E3 DIGIT 0087\n",
      "xiAPI: Time needed to read BPL:12ms\n",
      "xiAPI: Successfully parsed BPL file, 179 total corrected pixels\n",
      "xiAPI: Set gain 1.060000 ADC 01E3 DIGIT 0087\n",
      "xiAPI: AutoSetBandwidth measurement\n",
      "xiAPI: CalculateResources : Context 46147000 ID 41856842 m_maxBytes=1024 m_maxBufferSize=1048576\n",
      "xiAPI: PoolAllocUSB30: zerocopy not available\n",
      "xiAPI: Failed to change thread scheduler, check user limit for realtime priority.\n",
      "xiAPI: AutoSetBandwidth measured 3142Mbps. Safe margin 10% will be used.\n",
      "xiAPI: Current bandwidth limit auto-set to 2827 Mbps (min:408Mbps,max:3142Mbps)\n",
      "xiAPI: Set gain 1.060000 ADC 01E3 DIGIT 0087\n",
      "xiAPI: Set gain 1.060000 ADC 01E3 DIGIT 0087\n",
      "xiAPI: ---- Device opened. Model:MQ013RG-ON SN:41856842 FwF1: API:V4.25.04.00 ----\n",
      "xiAPI: Set gain 1.060000 ADC 01E3 DIGIT 0087\n",
      "xiAPI: CalculateResources : Context 46147000 ID 41856842 m_maxBytes=1024 m_maxBufferSize=1048576\n",
      "xiAPI: PoolAllocUSB30: zerocopy not available\n"
     ]
    },
    {
     "name": "stdout",
     "output_type": "stream",
     "text": [
      "Starting data acquisition...\n"
     ]
    },
    {
     "name": "stderr",
     "output_type": "stream",
     "text": [
      "xiAPI: StartVideoStream\n",
      "xiAPI: Set gain 1.060000 ADC 01E3 DIGIT 0087\n",
      "xiAPI: Failed to change thread scheduler, check user limit for realtime priority.\n",
      "xiAPI: WorkerThread is up\n",
      "xiAPI: WorkerThread is down: ret 0\n"
     ]
    },
    {
     "name": "stdout",
     "output_type": "stream",
     "text": [
      "Stopping acquisition...\n",
      "Drawing image...\n"
     ]
    },
    {
     "name": "stderr",
     "output_type": "stream",
     "text": [
      "xiAPI: xiCloseDevice\n",
      "xiAPI: DisableSensor\n",
      "xiAPI: DisableDevice\n",
      "xiAPI: DISABLE SENSOR\n",
      "xiAPI: deleting camera context: dwID=41856842, ptr=46147000 processID=000021AE\n"
     ]
    },
    {
     "name": "stdout",
     "output_type": "stream",
     "text": [
      "Done.\n",
      "Opening first camera...\n"
     ]
    },
    {
     "name": "stderr",
     "output_type": "stream",
     "text": [
      "xiAPI: ---- xiOpenDevice API:V4.25.04.00 started ----\n",
      "xiAPI: XIMEA Camera API V4.25.04.00\n",
      "xiAPI: Adding camera context: dwID=41856842  ptr=46147000 processID=000021AE\n",
      "xiAPI: Create handles 1 Process 000021AE\n",
      "xiAPI: Enable sensor\n",
      "xiAPI: ENABLE SENSOR\n",
      "xiAPI: xiReadFileFFS Time needed to read file SensFPNCorrections :152ms\n",
      "xiAPI: xiReadFileFFS Time needed to read file SensFPNCorrections :152ms\n",
      "xiAPI: DISABLE SENSOR\n",
      "xiAPI: ENABLE SENSOR\n",
      "xiAPI: Set gain 1.060000 ADC 01E3 DIGIT 0087\n",
      "xiAPI: Set gain 1.060000 ADC 01E3 DIGIT 0087\n",
      "xiAPI: Time needed to read BPL:12ms\n",
      "xiAPI: Successfully parsed BPL file, 179 total corrected pixels\n",
      "xiAPI: Set gain 1.060000 ADC 01E3 DIGIT 0087\n",
      "xiAPI: AutoSetBandwidth measurement\n",
      "xiAPI: CalculateResources : Context 46147000 ID 41856842 m_maxBytes=1024 m_maxBufferSize=1048576\n",
      "xiAPI: PoolAllocUSB30: zerocopy not available\n",
      "xiAPI: Failed to change thread scheduler, check user limit for realtime priority.\n",
      "xiAPI: AutoSetBandwidth measured 3143Mbps. Safe margin 10% will be used.\n",
      "xiAPI: Current bandwidth limit auto-set to 2828 Mbps (min:408Mbps,max:3143Mbps)\n",
      "xiAPI: Set gain 1.060000 ADC 01E3 DIGIT 0087\n",
      "xiAPI: Set gain 1.060000 ADC 01E3 DIGIT 0087\n",
      "xiAPI: ---- Device opened. Model:MQ013RG-ON SN:41856842 FwF1: API:V4.25.04.00 ----\n",
      "xiAPI: Set gain 1.060000 ADC 01E3 DIGIT 0087\n",
      "xiAPI: CalculateResources : Context 46147000 ID 41856842 m_maxBytes=1024 m_maxBufferSize=1048576\n",
      "xiAPI: PoolAllocUSB30: zerocopy not available\n"
     ]
    },
    {
     "name": "stdout",
     "output_type": "stream",
     "text": [
      "Starting data acquisition...\n"
     ]
    },
    {
     "name": "stderr",
     "output_type": "stream",
     "text": [
      "xiAPI: StartVideoStream\n",
      "xiAPI: Set gain 1.060000 ADC 01E3 DIGIT 0087\n",
      "xiAPI: Failed to change thread scheduler, check user limit for realtime priority.\n",
      "xiAPI: WorkerThread is up\n",
      "xiAPI: WorkerThread is down: ret 0\n"
     ]
    },
    {
     "name": "stdout",
     "output_type": "stream",
     "text": [
      "Stopping acquisition...\n",
      "Drawing image...\n"
     ]
    },
    {
     "name": "stderr",
     "output_type": "stream",
     "text": [
      "xiAPI: xiCloseDevice\n",
      "xiAPI: DisableSensor\n",
      "xiAPI: DisableDevice\n",
      "xiAPI: DISABLE SENSOR\n",
      "xiAPI: deleting camera context: dwID=41856842, ptr=46147000 processID=000021AE\n"
     ]
    },
    {
     "name": "stdout",
     "output_type": "stream",
     "text": [
      "Done.\n",
      "Opening first camera...\n"
     ]
    },
    {
     "name": "stderr",
     "output_type": "stream",
     "text": [
      "xiAPI: ---- xiOpenDevice API:V4.25.04.00 started ----\n",
      "xiAPI: XIMEA Camera API V4.25.04.00\n",
      "xiAPI: Adding camera context: dwID=41856842  ptr=46147000 processID=000021AE\n",
      "xiAPI: Create handles 1 Process 000021AE\n",
      "xiAPI: Enable sensor\n",
      "xiAPI: ENABLE SENSOR\n",
      "xiAPI: xiReadFileFFS Time needed to read file SensFPNCorrections :152ms\n",
      "xiAPI: xiReadFileFFS Time needed to read file SensFPNCorrections :151ms\n",
      "xiAPI: DISABLE SENSOR\n",
      "xiAPI: ENABLE SENSOR\n",
      "xiAPI: Set gain 1.060000 ADC 01E3 DIGIT 0087\n",
      "xiAPI: Set gain 1.060000 ADC 01E3 DIGIT 0087\n",
      "xiAPI: Time needed to read BPL:12ms\n",
      "xiAPI: Successfully parsed BPL file, 179 total corrected pixels\n",
      "xiAPI: Set gain 1.060000 ADC 01E3 DIGIT 0087\n",
      "xiAPI: AutoSetBandwidth measurement\n",
      "xiAPI: CalculateResources : Context 46147000 ID 41856842 m_maxBytes=1024 m_maxBufferSize=1048576\n",
      "xiAPI: PoolAllocUSB30: zerocopy not available\n",
      "xiAPI: Failed to change thread scheduler, check user limit for realtime priority.\n",
      "xiAPI: AutoSetBandwidth measured 3141Mbps. Safe margin 10% will be used.\n",
      "xiAPI: Current bandwidth limit auto-set to 2826 Mbps (min:408Mbps,max:3141Mbps)\n",
      "xiAPI: Set gain 1.060000 ADC 01E3 DIGIT 0087\n",
      "xiAPI: Set gain 1.060000 ADC 01E3 DIGIT 0087\n",
      "xiAPI: ---- Device opened. Model:MQ013RG-ON SN:41856842 FwF1: API:V4.25.04.00 ----\n",
      "xiAPI: Set gain 1.060000 ADC 01E3 DIGIT 0087\n",
      "xiAPI: CalculateResources : Context 46147000 ID 41856842 m_maxBytes=1024 m_maxBufferSize=1048576\n",
      "xiAPI: PoolAllocUSB30: zerocopy not available\n"
     ]
    },
    {
     "name": "stdout",
     "output_type": "stream",
     "text": [
      "Starting data acquisition...\n"
     ]
    },
    {
     "name": "stderr",
     "output_type": "stream",
     "text": [
      "xiAPI: StartVideoStream\n",
      "xiAPI: Set gain 1.060000 ADC 01E3 DIGIT 0087\n",
      "xiAPI: Failed to change thread scheduler, check user limit for realtime priority.\n",
      "xiAPI: WorkerThread is up\n",
      "xiAPI: WorkerThread is down: ret 0\n"
     ]
    },
    {
     "name": "stdout",
     "output_type": "stream",
     "text": [
      "Stopping acquisition...\n",
      "Drawing image...\n"
     ]
    },
    {
     "name": "stderr",
     "output_type": "stream",
     "text": [
      "xiAPI: xiCloseDevice\n",
      "xiAPI: DisableSensor\n",
      "xiAPI: DisableDevice\n",
      "xiAPI: DISABLE SENSOR\n",
      "xiAPI: deleting camera context: dwID=41856842, ptr=46147000 processID=000021AE\n"
     ]
    },
    {
     "name": "stdout",
     "output_type": "stream",
     "text": [
      "Done.\n",
      "Opening first camera...\n"
     ]
    },
    {
     "name": "stderr",
     "output_type": "stream",
     "text": [
      "xiAPI: ---- xiOpenDevice API:V4.25.04.00 started ----\n",
      "xiAPI: XIMEA Camera API V4.25.04.00\n",
      "xiAPI: Adding camera context: dwID=41856842  ptr=46147000 processID=000021AE\n",
      "xiAPI: Create handles 1 Process 000021AE\n",
      "xiAPI: Enable sensor\n",
      "xiAPI: ENABLE SENSOR\n",
      "xiAPI: xiReadFileFFS Time needed to read file SensFPNCorrections :152ms\n",
      "xiAPI: xiReadFileFFS Time needed to read file SensFPNCorrections :150ms\n",
      "xiAPI: DISABLE SENSOR\n",
      "xiAPI: ENABLE SENSOR\n",
      "xiAPI: Set gain 1.060000 ADC 01E3 DIGIT 0087\n",
      "xiAPI: Set gain 1.060000 ADC 01E3 DIGIT 0087\n",
      "xiAPI: Time needed to read BPL:12ms\n",
      "xiAPI: Successfully parsed BPL file, 179 total corrected pixels\n",
      "xiAPI: Set gain 1.060000 ADC 01E3 DIGIT 0087\n",
      "xiAPI: AutoSetBandwidth measurement\n",
      "xiAPI: CalculateResources : Context 46147000 ID 41856842 m_maxBytes=1024 m_maxBufferSize=1048576\n",
      "xiAPI: PoolAllocUSB30: zerocopy not available\n",
      "xiAPI: Failed to change thread scheduler, check user limit for realtime priority.\n",
      "xiAPI: AutoSetBandwidth measured 3141Mbps. Safe margin 10% will be used.\n",
      "xiAPI: Current bandwidth limit auto-set to 2826 Mbps (min:408Mbps,max:3141Mbps)\n",
      "xiAPI: Set gain 1.060000 ADC 01E3 DIGIT 0087\n",
      "xiAPI: Set gain 1.060000 ADC 01E3 DIGIT 0087\n",
      "xiAPI: ---- Device opened. Model:MQ013RG-ON SN:41856842 FwF1: API:V4.25.04.00 ----\n",
      "xiAPI: Set gain 1.060000 ADC 01E3 DIGIT 0087\n",
      "xiAPI: CalculateResources : Context 46147000 ID 41856842 m_maxBytes=1024 m_maxBufferSize=1048576\n",
      "xiAPI: PoolAllocUSB30: zerocopy not available\n"
     ]
    },
    {
     "name": "stdout",
     "output_type": "stream",
     "text": [
      "Starting data acquisition...\n"
     ]
    },
    {
     "name": "stderr",
     "output_type": "stream",
     "text": [
      "xiAPI: StartVideoStream\n",
      "xiAPI: Set gain 1.060000 ADC 01E3 DIGIT 0087\n",
      "xiAPI: Failed to change thread scheduler, check user limit for realtime priority.\n",
      "xiAPI: WorkerThread is up\n",
      "xiAPI: WorkerThread is down: ret 0\n"
     ]
    },
    {
     "name": "stdout",
     "output_type": "stream",
     "text": [
      "Stopping acquisition...\n",
      "Drawing image...\n"
     ]
    },
    {
     "name": "stderr",
     "output_type": "stream",
     "text": [
      "xiAPI: xiCloseDevice\n",
      "xiAPI: DisableSensor\n",
      "xiAPI: DisableDevice\n",
      "xiAPI: DISABLE SENSOR\n",
      "xiAPI: deleting camera context: dwID=41856842, ptr=46147000 processID=000021AE\n"
     ]
    },
    {
     "name": "stdout",
     "output_type": "stream",
     "text": [
      "Done.\n",
      "Opening first camera...\n"
     ]
    },
    {
     "name": "stderr",
     "output_type": "stream",
     "text": [
      "xiAPI: ---- xiOpenDevice API:V4.25.04.00 started ----\n",
      "xiAPI: XIMEA Camera API V4.25.04.00\n",
      "xiAPI: Adding camera context: dwID=41856842  ptr=46147000 processID=000021AE\n",
      "xiAPI: Create handles 1 Process 000021AE\n",
      "xiAPI: Enable sensor\n",
      "xiAPI: ENABLE SENSOR\n",
      "xiAPI: xiReadFileFFS Time needed to read file SensFPNCorrections :153ms\n",
      "xiAPI: xiReadFileFFS Time needed to read file SensFPNCorrections :150ms\n",
      "xiAPI: DISABLE SENSOR\n",
      "xiAPI: ENABLE SENSOR\n",
      "xiAPI: Set gain 1.060000 ADC 01E3 DIGIT 0087\n",
      "xiAPI: Set gain 1.060000 ADC 01E3 DIGIT 0087\n",
      "xiAPI: Time needed to read BPL:12ms\n",
      "xiAPI: Successfully parsed BPL file, 179 total corrected pixels\n",
      "xiAPI: Set gain 1.060000 ADC 01E3 DIGIT 0087\n",
      "xiAPI: AutoSetBandwidth measurement\n",
      "xiAPI: CalculateResources : Context 46147000 ID 41856842 m_maxBytes=1024 m_maxBufferSize=1048576\n",
      "xiAPI: PoolAllocUSB30: zerocopy not available\n",
      "xiAPI: Failed to change thread scheduler, check user limit for realtime priority.\n",
      "xiAPI: AutoSetBandwidth measured 3144Mbps. Safe margin 10% will be used.\n",
      "xiAPI: Current bandwidth limit auto-set to 2829 Mbps (min:408Mbps,max:3144Mbps)\n",
      "xiAPI: Set gain 1.060000 ADC 01E3 DIGIT 0087\n",
      "xiAPI: Set gain 1.060000 ADC 01E3 DIGIT 0087\n",
      "xiAPI: ---- Device opened. Model:MQ013RG-ON SN:41856842 FwF1: API:V4.25.04.00 ----\n",
      "xiAPI: Set gain 1.060000 ADC 01E3 DIGIT 0087\n",
      "xiAPI: CalculateResources : Context 46147000 ID 41856842 m_maxBytes=1024 m_maxBufferSize=1048576\n",
      "xiAPI: PoolAllocUSB30: zerocopy not available\n"
     ]
    },
    {
     "name": "stdout",
     "output_type": "stream",
     "text": [
      "Starting data acquisition...\n"
     ]
    },
    {
     "name": "stderr",
     "output_type": "stream",
     "text": [
      "xiAPI: StartVideoStream\n",
      "xiAPI: Set gain 1.060000 ADC 01E3 DIGIT 0087\n",
      "xiAPI: Failed to change thread scheduler, check user limit for realtime priority.\n",
      "xiAPI: WorkerThread is up\n",
      "xiAPI: WorkerThread is down: ret 0\n"
     ]
    },
    {
     "name": "stdout",
     "output_type": "stream",
     "text": [
      "Stopping acquisition...\n",
      "Drawing image...\n"
     ]
    },
    {
     "name": "stderr",
     "output_type": "stream",
     "text": [
      "xiAPI: xiCloseDevice\n",
      "xiAPI: DisableSensor\n",
      "xiAPI: DisableDevice\n",
      "xiAPI: DISABLE SENSOR\n",
      "xiAPI: deleting camera context: dwID=41856842, ptr=46147000 processID=000021AE\n"
     ]
    },
    {
     "name": "stdout",
     "output_type": "stream",
     "text": [
      "Done.\n",
      "Opening first camera...\n"
     ]
    },
    {
     "name": "stderr",
     "output_type": "stream",
     "text": [
      "xiAPI: ---- xiOpenDevice API:V4.25.04.00 started ----\n",
      "xiAPI: XIMEA Camera API V4.25.04.00\n",
      "xiAPI: Adding camera context: dwID=41856842  ptr=46147000 processID=000021AE\n",
      "xiAPI: Create handles 1 Process 000021AE\n",
      "xiAPI: Enable sensor\n",
      "xiAPI: ENABLE SENSOR\n",
      "xiAPI: xiReadFileFFS Time needed to read file SensFPNCorrections :153ms\n",
      "xiAPI: xiReadFileFFS Time needed to read file SensFPNCorrections :152ms\n",
      "xiAPI: DISABLE SENSOR\n",
      "xiAPI: ENABLE SENSOR\n",
      "xiAPI: Set gain 1.060000 ADC 01E3 DIGIT 0087\n",
      "xiAPI: Set gain 1.060000 ADC 01E3 DIGIT 0087\n",
      "xiAPI: Time needed to read BPL:12ms\n",
      "xiAPI: Successfully parsed BPL file, 179 total corrected pixels\n",
      "xiAPI: Set gain 1.060000 ADC 01E3 DIGIT 0087\n",
      "xiAPI: AutoSetBandwidth measurement\n",
      "xiAPI: CalculateResources : Context 46147000 ID 41856842 m_maxBytes=1024 m_maxBufferSize=1048576\n",
      "xiAPI: PoolAllocUSB30: zerocopy not available\n",
      "xiAPI: Failed to change thread scheduler, check user limit for realtime priority.\n",
      "xiAPI: AutoSetBandwidth measured 3141Mbps. Safe margin 10% will be used.\n",
      "xiAPI: Current bandwidth limit auto-set to 2826 Mbps (min:408Mbps,max:3141Mbps)\n",
      "xiAPI: Set gain 1.060000 ADC 01E3 DIGIT 0087\n",
      "xiAPI: Set gain 1.060000 ADC 01E3 DIGIT 0087\n",
      "xiAPI: ---- Device opened. Model:MQ013RG-ON SN:41856842 FwF1: API:V4.25.04.00 ----\n",
      "xiAPI: Set gain 1.060000 ADC 01E3 DIGIT 0087\n",
      "xiAPI: CalculateResources : Context 46147000 ID 41856842 m_maxBytes=1024 m_maxBufferSize=1048576\n",
      "xiAPI: PoolAllocUSB30: zerocopy not available\n"
     ]
    },
    {
     "name": "stdout",
     "output_type": "stream",
     "text": [
      "Starting data acquisition...\n"
     ]
    },
    {
     "name": "stderr",
     "output_type": "stream",
     "text": [
      "xiAPI: StartVideoStream\n",
      "xiAPI: Set gain 1.060000 ADC 01E3 DIGIT 0087\n",
      "xiAPI: Failed to change thread scheduler, check user limit for realtime priority.\n",
      "xiAPI: WorkerThread is up\n",
      "xiAPI: WorkerThread is down: ret 0\n"
     ]
    },
    {
     "name": "stdout",
     "output_type": "stream",
     "text": [
      "Stopping acquisition...\n",
      "Drawing image...\n"
     ]
    },
    {
     "name": "stderr",
     "output_type": "stream",
     "text": [
      "xiAPI: xiCloseDevice\n",
      "xiAPI: DisableSensor\n",
      "xiAPI: DisableDevice\n",
      "xiAPI: DISABLE SENSOR\n",
      "xiAPI: deleting camera context: dwID=41856842, ptr=46147000 processID=000021AE\n"
     ]
    },
    {
     "name": "stdout",
     "output_type": "stream",
     "text": [
      "Done.\n",
      "Opening first camera...\n"
     ]
    },
    {
     "name": "stderr",
     "output_type": "stream",
     "text": [
      "xiAPI: ---- xiOpenDevice API:V4.25.04.00 started ----\n",
      "xiAPI: XIMEA Camera API V4.25.04.00\n",
      "xiAPI: Adding camera context: dwID=41856842  ptr=46147000 processID=000021AE\n",
      "xiAPI: Create handles 1 Process 000021AE\n",
      "xiAPI: Enable sensor\n",
      "xiAPI: ENABLE SENSOR\n",
      "xiAPI: xiReadFileFFS Time needed to read file SensFPNCorrections :155ms\n",
      "xiAPI: xiReadFileFFS Time needed to read file SensFPNCorrections :152ms\n",
      "xiAPI: DISABLE SENSOR\n",
      "xiAPI: ENABLE SENSOR\n",
      "xiAPI: Set gain 1.060000 ADC 01E3 DIGIT 0087\n",
      "xiAPI: Set gain 1.060000 ADC 01E3 DIGIT 0087\n",
      "xiAPI: Time needed to read BPL:12ms\n",
      "xiAPI: Successfully parsed BPL file, 179 total corrected pixels\n",
      "xiAPI: Set gain 1.060000 ADC 01E3 DIGIT 0087\n",
      "xiAPI: AutoSetBandwidth measurement\n",
      "xiAPI: CalculateResources : Context 46147000 ID 41856842 m_maxBytes=1024 m_maxBufferSize=1048576\n",
      "xiAPI: PoolAllocUSB30: zerocopy not available\n",
      "xiAPI: Failed to change thread scheduler, check user limit for realtime priority.\n",
      "xiAPI: AutoSetBandwidth measured 3141Mbps. Safe margin 10% will be used.\n",
      "xiAPI: Current bandwidth limit auto-set to 2826 Mbps (min:408Mbps,max:3141Mbps)\n",
      "xiAPI: Set gain 1.060000 ADC 01E3 DIGIT 0087\n",
      "xiAPI: Set gain 1.060000 ADC 01E3 DIGIT 0087\n",
      "xiAPI: ---- Device opened. Model:MQ013RG-ON SN:41856842 FwF1: API:V4.25.04.00 ----\n",
      "xiAPI: Set gain 1.060000 ADC 01E3 DIGIT 0087\n",
      "xiAPI: CalculateResources : Context 46147000 ID 41856842 m_maxBytes=1024 m_maxBufferSize=1048576\n",
      "xiAPI: PoolAllocUSB30: zerocopy not available\n"
     ]
    },
    {
     "name": "stdout",
     "output_type": "stream",
     "text": [
      "Starting data acquisition...\n"
     ]
    },
    {
     "name": "stderr",
     "output_type": "stream",
     "text": [
      "xiAPI: StartVideoStream\n",
      "xiAPI: Set gain 1.060000 ADC 01E3 DIGIT 0087\n",
      "xiAPI: Failed to change thread scheduler, check user limit for realtime priority.\n",
      "xiAPI: WorkerThread is up\n",
      "xiAPI: WorkerThread is down: ret 0\n"
     ]
    },
    {
     "name": "stdout",
     "output_type": "stream",
     "text": [
      "Stopping acquisition...\n",
      "Drawing image...\n"
     ]
    },
    {
     "name": "stderr",
     "output_type": "stream",
     "text": [
      "xiAPI: xiCloseDevice\n",
      "xiAPI: DisableSensor\n",
      "xiAPI: DisableDevice\n",
      "xiAPI: DISABLE SENSOR\n",
      "xiAPI: deleting camera context: dwID=41856842, ptr=46147000 processID=000021AE\n"
     ]
    },
    {
     "name": "stdout",
     "output_type": "stream",
     "text": [
      "Done.\n",
      "Opening first camera...\n"
     ]
    },
    {
     "name": "stderr",
     "output_type": "stream",
     "text": [
      "xiAPI: ---- xiOpenDevice API:V4.25.04.00 started ----\n",
      "xiAPI: XIMEA Camera API V4.25.04.00\n",
      "xiAPI: Adding camera context: dwID=41856842  ptr=46147000 processID=000021AE\n",
      "xiAPI: Create handles 1 Process 000021AE\n",
      "xiAPI: Enable sensor\n",
      "xiAPI: ENABLE SENSOR\n",
      "xiAPI: xiReadFileFFS Time needed to read file SensFPNCorrections :152ms\n",
      "xiAPI: xiReadFileFFS Time needed to read file SensFPNCorrections :152ms\n",
      "xiAPI: DISABLE SENSOR\n",
      "xiAPI: ENABLE SENSOR\n",
      "xiAPI: Set gain 1.060000 ADC 01E3 DIGIT 0087\n",
      "xiAPI: Set gain 1.060000 ADC 01E3 DIGIT 0087\n",
      "xiAPI: Time needed to read BPL:12ms\n",
      "xiAPI: Successfully parsed BPL file, 179 total corrected pixels\n",
      "xiAPI: Set gain 1.060000 ADC 01E3 DIGIT 0087\n",
      "xiAPI: AutoSetBandwidth measurement\n",
      "xiAPI: CalculateResources : Context 46147000 ID 41856842 m_maxBytes=1024 m_maxBufferSize=1048576\n",
      "xiAPI: PoolAllocUSB30: zerocopy not available\n",
      "xiAPI: Failed to change thread scheduler, check user limit for realtime priority.\n",
      "xiAPI: AutoSetBandwidth measured 3141Mbps. Safe margin 10% will be used.\n",
      "xiAPI: Current bandwidth limit auto-set to 2826 Mbps (min:408Mbps,max:3141Mbps)\n",
      "xiAPI: Set gain 1.060000 ADC 01E3 DIGIT 0087\n",
      "xiAPI: Set gain 1.060000 ADC 01E3 DIGIT 0087\n",
      "xiAPI: ---- Device opened. Model:MQ013RG-ON SN:41856842 FwF1: API:V4.25.04.00 ----\n",
      "xiAPI: Set gain 1.060000 ADC 01E3 DIGIT 0087\n",
      "xiAPI: CalculateResources : Context 46147000 ID 41856842 m_maxBytes=1024 m_maxBufferSize=1048576\n",
      "xiAPI: PoolAllocUSB30: zerocopy not available\n"
     ]
    },
    {
     "name": "stdout",
     "output_type": "stream",
     "text": [
      "Starting data acquisition...\n"
     ]
    },
    {
     "name": "stderr",
     "output_type": "stream",
     "text": [
      "xiAPI: StartVideoStream\n",
      "xiAPI: Set gain 1.060000 ADC 01E3 DIGIT 0087\n",
      "xiAPI: Failed to change thread scheduler, check user limit for realtime priority.\n",
      "xiAPI: WorkerThread is up\n",
      "xiAPI: WorkerThread is down: ret 0\n"
     ]
    },
    {
     "name": "stdout",
     "output_type": "stream",
     "text": [
      "Stopping acquisition...\n",
      "Drawing image...\n"
     ]
    },
    {
     "name": "stderr",
     "output_type": "stream",
     "text": [
      "xiAPI: xiCloseDevice\n",
      "xiAPI: DisableSensor\n",
      "xiAPI: DisableDevice\n",
      "xiAPI: DISABLE SENSOR\n",
      "xiAPI: deleting camera context: dwID=41856842, ptr=46147000 processID=000021AE\n"
     ]
    },
    {
     "name": "stdout",
     "output_type": "stream",
     "text": [
      "Done.\n",
      "Opening first camera...\n"
     ]
    },
    {
     "name": "stderr",
     "output_type": "stream",
     "text": [
      "xiAPI: ---- xiOpenDevice API:V4.25.04.00 started ----\n",
      "xiAPI: XIMEA Camera API V4.25.04.00\n",
      "xiAPI: Adding camera context: dwID=41856842  ptr=46147000 processID=000021AE\n",
      "xiAPI: Create handles 1 Process 000021AE\n",
      "xiAPI: Enable sensor\n",
      "xiAPI: ENABLE SENSOR\n",
      "xiAPI: xiReadFileFFS Time needed to read file SensFPNCorrections :153ms\n",
      "xiAPI: xiReadFileFFS Time needed to read file SensFPNCorrections :152ms\n",
      "xiAPI: DISABLE SENSOR\n",
      "xiAPI: ENABLE SENSOR\n",
      "xiAPI: Set gain 1.060000 ADC 01E3 DIGIT 0087\n",
      "xiAPI: Set gain 1.060000 ADC 01E3 DIGIT 0087\n",
      "xiAPI: Time needed to read BPL:12ms\n",
      "xiAPI: Successfully parsed BPL file, 179 total corrected pixels\n",
      "xiAPI: Set gain 1.060000 ADC 01E3 DIGIT 0087\n",
      "xiAPI: AutoSetBandwidth measurement\n",
      "xiAPI: CalculateResources : Context 46147000 ID 41856842 m_maxBytes=1024 m_maxBufferSize=1048576\n",
      "xiAPI: PoolAllocUSB30: zerocopy not available\n",
      "xiAPI: Failed to change thread scheduler, check user limit for realtime priority.\n",
      "xiAPI: AutoSetBandwidth measured 3143Mbps. Safe margin 10% will be used.\n",
      "xiAPI: Current bandwidth limit auto-set to 2828 Mbps (min:408Mbps,max:3143Mbps)\n",
      "xiAPI: Set gain 1.060000 ADC 01E3 DIGIT 0087\n",
      "xiAPI: Set gain 1.060000 ADC 01E3 DIGIT 0087\n",
      "xiAPI: ---- Device opened. Model:MQ013RG-ON SN:41856842 FwF1: API:V4.25.04.00 ----\n",
      "xiAPI: Set gain 1.060000 ADC 01E3 DIGIT 0087\n",
      "xiAPI: CalculateResources : Context 46147000 ID 41856842 m_maxBytes=1024 m_maxBufferSize=1048576\n",
      "xiAPI: PoolAllocUSB30: zerocopy not available\n"
     ]
    },
    {
     "name": "stdout",
     "output_type": "stream",
     "text": [
      "Starting data acquisition...\n"
     ]
    },
    {
     "name": "stderr",
     "output_type": "stream",
     "text": [
      "xiAPI: StartVideoStream\n",
      "xiAPI: Set gain 1.060000 ADC 01E3 DIGIT 0087\n",
      "xiAPI: Failed to change thread scheduler, check user limit for realtime priority.\n",
      "xiAPI: WorkerThread is up\n",
      "xiAPI: WorkerThread is down: ret 0\n"
     ]
    },
    {
     "name": "stdout",
     "output_type": "stream",
     "text": [
      "Stopping acquisition...\n",
      "Drawing image...\n"
     ]
    },
    {
     "name": "stderr",
     "output_type": "stream",
     "text": [
      "xiAPI: xiCloseDevice\n",
      "xiAPI: DisableSensor\n",
      "xiAPI: DisableDevice\n",
      "xiAPI: DISABLE SENSOR\n",
      "xiAPI: deleting camera context: dwID=41856842, ptr=46147000 processID=000021AE\n"
     ]
    },
    {
     "name": "stdout",
     "output_type": "stream",
     "text": [
      "Done.\n",
      "Opening first camera...\n"
     ]
    },
    {
     "name": "stderr",
     "output_type": "stream",
     "text": [
      "xiAPI: ---- xiOpenDevice API:V4.25.04.00 started ----\n",
      "xiAPI: XIMEA Camera API V4.25.04.00\n",
      "xiAPI: Adding camera context: dwID=41856842  ptr=46147000 processID=000021AE\n",
      "xiAPI: Create handles 1 Process 000021AE\n",
      "xiAPI: Enable sensor\n",
      "xiAPI: ENABLE SENSOR\n",
      "xiAPI: xiReadFileFFS Time needed to read file SensFPNCorrections :153ms\n",
      "xiAPI: xiReadFileFFS Time needed to read file SensFPNCorrections :152ms\n",
      "xiAPI: DISABLE SENSOR\n",
      "xiAPI: ENABLE SENSOR\n",
      "xiAPI: Set gain 1.060000 ADC 01E3 DIGIT 0087\n",
      "xiAPI: Set gain 1.060000 ADC 01E3 DIGIT 0087\n",
      "xiAPI: Time needed to read BPL:12ms\n",
      "xiAPI: Successfully parsed BPL file, 179 total corrected pixels\n",
      "xiAPI: Set gain 1.060000 ADC 01E3 DIGIT 0087\n",
      "xiAPI: AutoSetBandwidth measurement\n",
      "xiAPI: CalculateResources : Context 46147000 ID 41856842 m_maxBytes=1024 m_maxBufferSize=1048576\n",
      "xiAPI: PoolAllocUSB30: zerocopy not available\n",
      "xiAPI: Failed to change thread scheduler, check user limit for realtime priority.\n",
      "xiAPI: AutoSetBandwidth measured 3140Mbps. Safe margin 10% will be used.\n",
      "xiAPI: Current bandwidth limit auto-set to 2826 Mbps (min:408Mbps,max:3140Mbps)\n",
      "xiAPI: Set gain 1.060000 ADC 01E3 DIGIT 0087\n",
      "xiAPI: Set gain 1.060000 ADC 01E3 DIGIT 0087\n",
      "xiAPI: ---- Device opened. Model:MQ013RG-ON SN:41856842 FwF1: API:V4.25.04.00 ----\n",
      "xiAPI: Set gain 1.060000 ADC 01E3 DIGIT 0087\n",
      "xiAPI: CalculateResources : Context 46147000 ID 41856842 m_maxBytes=1024 m_maxBufferSize=1048576\n",
      "xiAPI: PoolAllocUSB30: zerocopy not available\n"
     ]
    },
    {
     "name": "stdout",
     "output_type": "stream",
     "text": [
      "Starting data acquisition...\n"
     ]
    },
    {
     "name": "stderr",
     "output_type": "stream",
     "text": [
      "xiAPI: StartVideoStream\n",
      "xiAPI: Set gain 1.060000 ADC 01E3 DIGIT 0087\n",
      "xiAPI: Failed to change thread scheduler, check user limit for realtime priority.\n",
      "xiAPI: WorkerThread is up\n",
      "xiAPI: WorkerThread is down: ret 0\n"
     ]
    },
    {
     "name": "stdout",
     "output_type": "stream",
     "text": [
      "Stopping acquisition...\n",
      "Drawing image...\n"
     ]
    },
    {
     "name": "stderr",
     "output_type": "stream",
     "text": [
      "xiAPI: xiCloseDevice\n",
      "xiAPI: DisableSensor\n",
      "xiAPI: DisableDevice\n",
      "xiAPI: DISABLE SENSOR\n",
      "xiAPI: deleting camera context: dwID=41856842, ptr=46147000 processID=000021AE\n"
     ]
    },
    {
     "name": "stdout",
     "output_type": "stream",
     "text": [
      "Done.\n",
      "Opening first camera...\n"
     ]
    },
    {
     "name": "stderr",
     "output_type": "stream",
     "text": [
      "xiAPI: ---- xiOpenDevice API:V4.25.04.00 started ----\n",
      "xiAPI: XIMEA Camera API V4.25.04.00\n",
      "xiAPI: Adding camera context: dwID=41856842  ptr=46147000 processID=000021AE\n",
      "xiAPI: Create handles 1 Process 000021AE\n",
      "xiAPI: Enable sensor\n",
      "xiAPI: ENABLE SENSOR\n",
      "xiAPI: xiReadFileFFS Time needed to read file SensFPNCorrections :153ms\n",
      "xiAPI: xiReadFileFFS Time needed to read file SensFPNCorrections :151ms\n",
      "xiAPI: DISABLE SENSOR\n",
      "xiAPI: ENABLE SENSOR\n",
      "xiAPI: Set gain 1.060000 ADC 01E3 DIGIT 0087\n",
      "xiAPI: Set gain 1.060000 ADC 01E3 DIGIT 0087\n",
      "xiAPI: Time needed to read BPL:12ms\n",
      "xiAPI: Successfully parsed BPL file, 179 total corrected pixels\n",
      "xiAPI: Set gain 1.060000 ADC 01E3 DIGIT 0087\n",
      "xiAPI: AutoSetBandwidth measurement\n",
      "xiAPI: CalculateResources : Context 46147000 ID 41856842 m_maxBytes=1024 m_maxBufferSize=1048576\n",
      "xiAPI: PoolAllocUSB30: zerocopy not available\n",
      "xiAPI: Failed to change thread scheduler, check user limit for realtime priority.\n",
      "xiAPI: AutoSetBandwidth measured 3140Mbps. Safe margin 10% will be used.\n",
      "xiAPI: Current bandwidth limit auto-set to 2826 Mbps (min:408Mbps,max:3140Mbps)\n",
      "xiAPI: Set gain 1.060000 ADC 01E3 DIGIT 0087\n",
      "xiAPI: Set gain 1.060000 ADC 01E3 DIGIT 0087\n",
      "xiAPI: ---- Device opened. Model:MQ013RG-ON SN:41856842 FwF1: API:V4.25.04.00 ----\n",
      "xiAPI: Set gain 1.060000 ADC 01E3 DIGIT 0087\n",
      "xiAPI: CalculateResources : Context 46147000 ID 41856842 m_maxBytes=1024 m_maxBufferSize=1048576\n",
      "xiAPI: PoolAllocUSB30: zerocopy not available\n"
     ]
    },
    {
     "name": "stdout",
     "output_type": "stream",
     "text": [
      "Starting data acquisition...\n"
     ]
    },
    {
     "name": "stderr",
     "output_type": "stream",
     "text": [
      "xiAPI: StartVideoStream\n",
      "xiAPI: Set gain 1.060000 ADC 01E3 DIGIT 0087\n",
      "xiAPI: Failed to change thread scheduler, check user limit for realtime priority.\n",
      "xiAPI: WorkerThread is up\n",
      "xiAPI: WorkerThread is down: ret 0\n"
     ]
    },
    {
     "name": "stdout",
     "output_type": "stream",
     "text": [
      "Stopping acquisition...\n",
      "Drawing image...\n"
     ]
    },
    {
     "name": "stderr",
     "output_type": "stream",
     "text": [
      "xiAPI: xiCloseDevice\n",
      "xiAPI: DisableSensor\n",
      "xiAPI: DisableDevice\n",
      "xiAPI: DISABLE SENSOR\n",
      "xiAPI: deleting camera context: dwID=41856842, ptr=46147000 processID=000021AE\n"
     ]
    },
    {
     "name": "stdout",
     "output_type": "stream",
     "text": [
      "Done.\n"
     ]
    },
    {
     "data": {
      "image/png": "[encoded data removed]",
      "text/plain": [
       "<Figure size 432x288 with 1 Axes>"
      ]
     },
     "metadata": {
      "needs_background": "light"
     },
     "output_type": "display_data"
    }
   ],
   "source": [
    "for i in range(15):\n",
    "    #create instance for first connected camera \n",
    "    cam = xiapi.Camera()\n",
    "\n",
    "    #start communication\n",
    "    print('Opening first camera...')\n",
    "    cam.open_device()\n",
    "\n",
    "    #settings\n",
    "    cam.set_exposure(ExposTime)\n",
    "\n",
    "    #create instance of Image to store image data and metadata\n",
    "    img = xiapi.Image()\n",
    "\n",
    "    #start data acquisition\n",
    "    print('Starting data acquisition...')\n",
    "    cam.start_acquisition()\n",
    "\n",
    "    #get data and pass them from camera to img\n",
    "    cam.get_image(img)\n",
    "\n",
    "    #create numpy array with data from camera. Dimensions of array are determined\n",
    "    #by imgdataformat\n",
    "    data = img.get_image_data_numpy()\n",
    "\n",
    "    #stop data acquisition\n",
    "    print('Stopping acquisition...')\n",
    "    cam.stop_acquisition()\n",
    "\n",
    "    #stop communication\n",
    "    cam.close_device()\n",
    "\n",
    "    #show acquired image\n",
    "    print('Drawing image...')\n",
    "    #cv2.imshow('XiCAM example', data)\n",
    "    plt.imshow(data, cmap=\"gray\")\n",
    "\n",
    "    filename = Folder + '/' + RA + '_' + str(ExposTime) + '_' + str(counter) +\".png\"\n",
    "    cv2.imwrite(filename, data)\n",
    "    counter +=1\n",
    "    print('Done.')\n",
    "    time.sleep(1)"
   ]
  },
  {
   "cell_type": "code",
   "execution_count": null,
   "metadata": {},
   "outputs": [],
   "source": []
  }
 ],
 "metadata": {
  "kernelspec": {
   "display_name": "Python 3 (ipykernel)",
   "language": "python",
   "name": "python3"
  },
  "language_info": {
   "codemirror_mode": {
    "name": "ipython",
    "version": 3
   },
   "file_extension": ".py",
   "mimetype": "text/x-python",
   "name": "python",
   "nbconvert_exporter": "python",
   "pygments_lexer": "ipython3",
   "version": "3.7.6"
  }
 },
 "nbformat": 4,
 "nbformat_minor": 5
}
